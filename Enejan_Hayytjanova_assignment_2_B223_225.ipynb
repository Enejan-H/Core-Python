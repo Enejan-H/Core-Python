{
 "cells": [
  {
   "cell_type": "markdown",
   "metadata": {},
   "source": [
    "1 - Kullanıcıdan 1-100 arası bir sayı girmesini isteyin. 1 ile girilen sayı arasındaki çift sayıların toplamımı yazıdran kodu yazın. örn: girilen sayı 15. 1-15 arsı çift sayıların toplamı: 56 "
   ]
  },
  {
   "cell_type": "code",
   "execution_count": 14,
   "metadata": {},
   "outputs": [
    {
     "name": "stdout",
     "output_type": "stream",
     "text": [
      "sum of even numbers between 1 and 15 is 56\n"
     ]
    }
   ],
   "source": [
    "number_1 = int(input(\"enter a number between 1 and 100 please\"))\n",
    "my_list = list(range(1,number_1))\n",
    "new_even_list = []\n",
    "x = 0\n",
    "\n",
    "while x < len(my_list):\n",
    "    if my_list[x] % 2 == 0:\n",
    "        new_even_list.append(my_list[x])\n",
    "    x += 1\n",
    "print(f\"sum of even numbers between 1 and {number_1} is {sum(new_even_list)}\")\n"
   ]
  },
  {
   "cell_type": "markdown",
   "metadata": {},
   "source": [
    "2 - Kullanıcıdan bir sayı alın ve sayıyı tersten yazdırın. örn: 1524 >> 4251"
   ]
  },
  {
   "cell_type": "code",
   "execution_count": 4,
   "metadata": {},
   "outputs": [
    {
     "name": "stdout",
     "output_type": "stream",
     "text": [
      "1524  >>  4251\n"
     ]
    }
   ],
   "source": [
    "number_2 = input(\"enter a number please\")\n",
    "print(number_2, \" >> \", number_2[::-1]) "
   ]
  },
  {
   "cell_type": "markdown",
   "metadata": {},
   "source": [
    "3 - Kullanıcıdan oluşturacağınız bir listenin eleman sayısını girmesini isteyin. Daha sonra listeye bu sayı kadar eleman eklemesini sağlayan kodu yazın. (örn: liste eleman sayısı 4. Kullanıcının belirlediği 4 elemanlı bir liste döndürülmelidir.) "
   ]
  },
  {
   "cell_type": "code",
   "execution_count": 29,
   "metadata": {},
   "outputs": [
    {
     "name": "stdout",
     "output_type": "stream",
     "text": [
      "number of elements of the list is 4\n",
      "my list is [['1', '2', '3', '4']]\n"
     ]
    }
   ],
   "source": [
    "number_of_list_1 = int(input(\"enter the number of elements for the list\"))\n",
    "print(f\"number of elements of the list is {number_of_list_1}\")\n",
    "list_1 = []\n",
    "elements_of_list = (input(f\"please, enter {number_of_list_1} elements of {list_1} \")).split()\n",
    "list_1.append(elements_of_list)\n",
    "print(f\"my list is {list_1}\")\n",
    "\n"
   ]
  },
  {
   "cell_type": "markdown",
   "metadata": {},
   "source": [
    "4 - Kullanıcının girdiği sayının asal sayı olup olmadığını bulan kodu yazın."
   ]
  },
  {
   "cell_type": "code",
   "execution_count": 42,
   "metadata": {},
   "outputs": [
    {
     "name": "stdout",
     "output_type": "stream",
     "text": [
      "the number you have entered 18 is not prime\n"
     ]
    }
   ],
   "source": [
    "number_3 = int(input(\"enter the number\"))\n",
    "\n",
    "y = True\n",
    "x = 2\n",
    "while y:\n",
    "\n",
    "    if number_3 == 2 or number_3 % x != 0:\n",
    "        print(f\"the number you have entered {number_3} is prime\")\n",
    "    else:\n",
    "        print(f\"the number you have entered {number_3} is not prime\")\n",
    "    y = False\n",
    "    x += 1\n",
    "\n"
   ]
  },
  {
   "cell_type": "markdown",
   "metadata": {},
   "source": [
    "5 - Anne, baba ve çocuktan oluşan çekirdek ailenin Süper aile olup olmadığını bulan kodu yazın. isimleri kullanıcıdan isteyin. (Çocuğun ismindeki sessiz harflerin hepsi, anne ve babanın isimlerinde var ise bu aile süper ailedir.(Not: anne ve baba isminden en az bir tane olmalı.). örn1: baba adı = \"Halil\", anne adı= \"Merve\", çocuk adı= \"Veli\" >> Süper aile. (\"v\" anneden, \"l\" babadan)\n",
    "örn2: baba adı = \"Murat\", anne adı= \"Songül\", çocuk adı= \"Mert\" >> Süper aile değil. Anneden harf yok."
   ]
  },
  {
   "cell_type": "code",
   "execution_count": 5,
   "metadata": {},
   "outputs": [
    {
     "name": "stdout",
     "output_type": "stream",
     "text": [
      "bu aile super aile\n",
      "\n",
      "Kontrol etmek isterseniz: \n",
      "anne adi: Enejan \n",
      "baba adi: Gammar \n",
      "cocuk adi: Burak\n"
     ]
    }
   ],
   "source": [
    "anne =list(input(\"anne adini yazin\"))\n",
    "baba =list(input(\"baba adini yazin\"))\n",
    "cocuk = list(input(\"cocuk adini yazin\"))\n",
    "\n",
    "anne_ve_baba = anne + baba\n",
    "sesli_harfler = list(\"aeiouAEIOU\")\n",
    "anne_ve_baba_sessiz = set()\n",
    "\n",
    "x = 0\n",
    "while x < len(anne_ve_baba):\n",
    "    y = 0\n",
    "    is_consonant = True\n",
    "    while y < len(sesli_harfler):\n",
    "        \n",
    "        if anne_ve_baba[x] == sesli_harfler[y]:\n",
    "            \n",
    "            is_consonant = False\n",
    "            break\n",
    "        y += 1\n",
    "        \n",
    "    if is_consonant:\n",
    "        anne_ve_baba_sessiz.add(anne_ve_baba[x])\n",
    "    x += 1\n",
    "anne_ve_baba_sessiz_list = list(anne_ve_baba_sessiz)\n",
    "\n",
    "z = 0\n",
    "super_aile = True\n",
    "while z < len(cocuk):\n",
    "\n",
    "    t = 0\n",
    "    while len(anne_ve_baba_sessiz_list):\n",
    "        if cocuk[z] == anne_ve_baba_sessiz_list[t]:\n",
    "            super_aile = False  \n",
    "        break\n",
    "        t += 1\n",
    "    z += 1\n",
    "if  super_aile:  \n",
    "    print(\"bu aile super aile\")\n",
    "else:\n",
    "    print(\"bu aile super aile DEGILLLL\")\n",
    "\n",
    "anne = \"\".join(anne)\n",
    "baba = \"\".join(baba)\n",
    "cocuk = \"\".join(cocuk)\n",
    "print(f\"\\nKontrol etmek isterseniz: \\nanne adi: {anne} \\nbaba adi: {baba} \\ncocuk adi: {cocuk}\")"
   ]
  },
  {
   "cell_type": "code",
   "execution_count": 1,
   "metadata": {},
   "outputs": [
    {
     "name": "stdout",
     "output_type": "stream",
     "text": [
      "bu aile süper aile değildir.\n"
     ]
    }
   ],
   "source": [
    "baba = input(\"baba ismi\")\n",
    "anne = input(\"anne ismi\")\n",
    "cocuk = input(\"cocuk ismi\")\n",
    "\n",
    "sessiz_cocuk = \"\"\n",
    "\n",
    "for i in cocuk.lower():\n",
    "    if i not in \"aeıiüuoö\":\n",
    "        sessiz_cocuk += i\n",
    "\n",
    "if len(set(sessiz_cocuk) & set(baba)) > 0 and len(set(sessiz_cocuk) & set(anne)) > 0 and set(sessiz_cocuk).issubset(set(baba) | set(anne)):\n",
    "    print(\"bu aile süper ailedir\")\n",
    "else:\n",
    "    print(\"bu aile süper aile değildir.\")"
   ]
  },
  {
   "cell_type": "code",
   "execution_count": null,
   "metadata": {},
   "outputs": [],
   "source": []
  }
 ],
 "metadata": {
  "kernelspec": {
   "display_name": "base",
   "language": "python",
   "name": "python3"
  },
  "language_info": {
   "codemirror_mode": {
    "name": "ipython",
    "version": 3
   },
   "file_extension": ".py",
   "mimetype": "text/x-python",
   "name": "python",
   "nbconvert_exporter": "python",
   "pygments_lexer": "ipython3",
   "version": "3.11.4"
  }
 },
 "nbformat": 4,
 "nbformat_minor": 2
}
