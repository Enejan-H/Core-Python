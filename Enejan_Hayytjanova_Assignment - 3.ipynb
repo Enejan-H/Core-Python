{
 "cells": [
  {
   "cell_type": "markdown",
   "id": "bb5fd8fe",
   "metadata": {},
   "source": [
    "1 .Given a string of odd length greater than 5, return a new string made of the middle three characters of a given String:\n",
    "Example:\n",
    "\n",
    "\"Murat\" >>> \"ura\"\n",
    "\"Techpro\" >>> \"chp\" "
   ]
  },
  {
   "cell_type": "code",
   "execution_count": 14,
   "metadata": {},
   "outputs": [
    {
     "data": {
      "text/plain": [
       "'ura'"
      ]
     },
     "execution_count": 14,
     "metadata": {},
     "output_type": "execute_result"
    }
   ],
   "source": [
    "def middle(a):\n",
    "    if len(a)>=5:\n",
    "        return a[(len(a)//2-1)]+a[len(a)//2]+a[len(a)//2+1]  \n",
    "    else:\n",
    "        None\n",
    "\n",
    "middle('murat')"
   ]
  },
  {
   "cell_type": "markdown",
   "id": "d4504fd6",
   "metadata": {},
   "source": [
    "2 - Write a Python program to remove all elements from a given list present in another list. Go to the editor\n",
    "Original lists:\n",
    "list1: [1, 2, 3, 4, 5, 6, 7, 8, 9, 10]\n",
    "list2: [2, 4, 6, 8]\n",
    "Remove all elements from 'list1' present in 'list2:\n",
    "[1, 3, 5, 7, 9, 10]"
   ]
  },
  {
   "cell_type": "code",
   "execution_count": 19,
   "id": "8c8e0c14",
   "metadata": {},
   "outputs": [
    {
     "data": {
      "text/plain": [
       "[1, 3, 5, 7, 9, 10]"
      ]
     },
     "execution_count": 19,
     "metadata": {},
     "output_type": "execute_result"
    }
   ],
   "source": [
    "list1 = [1, 2, 3, 4, 5, 6, 7, 8, 9, 10]\n",
    "list2 = [2, 4, 6, 8]\n",
    "\n",
    "def remv():\n",
    "    for i in list1:\n",
    "        if i in list2:\n",
    "            list1.remove(i)\n",
    "    return list1\n",
    "\n",
    "remv()"
   ]
  },
  {
   "cell_type": "markdown",
   "id": "5deef34a",
   "metadata": {},
   "source": [
    "3 - Negatif olmayan iki sayı alınız ve bu iki sayı arasındaki sayılardan tek olanları key, karelerini de value olacak şekilde sözlük haline getiren bir fonksiyon yazınız. (Sayıların kendileri dahil!)\n",
    "\n",
    "Example:\n",
    "keyvalue(12,5)\n",
    "\n",
    "{5: 25, 7: 49, 9: 81, 11: 121}"
   ]
  },
  {
   "cell_type": "code",
   "execution_count": 25,
   "metadata": {},
   "outputs": [
    {
     "data": {
      "text/plain": [
       "[5, 7, 9, 11]"
      ]
     },
     "execution_count": 25,
     "metadata": {},
     "output_type": "execute_result"
    }
   ],
   "source": [
    "\n",
    "\n",
    "oddy(list3)"
   ]
  },
  {
   "cell_type": "code",
   "execution_count": 45,
   "metadata": {},
   "outputs": [
    {
     "data": {
      "text/plain": [
       "{5: 25, 7: 49, 9: 81, 11: 121}"
      ]
     },
     "execution_count": 45,
     "metadata": {},
     "output_type": "execute_result"
    }
   ],
   "source": [
    "list3 = list(range(5,12))\n",
    "\n",
    "def oddy(list):\n",
    "    list_odd = []\n",
    "    for i in list3:\n",
    "        if i%2:\n",
    "            list_odd.append(i)\n",
    "    return list_odd\n",
    "\n",
    "def dict_maker(liste):\n",
    "    mydict = {}\n",
    "    for i in liste:\n",
    "        mydict[i] = (i**2)\n",
    "    return mydict\n",
    "    \n",
    "dict_maker(oddy(list3))"
   ]
  },
  {
   "cell_type": "markdown",
   "id": "903f7ae5",
   "metadata": {},
   "source": [
    "4 - Ardışık sıfırlar ve birler:\n",
    "\n",
    "Bu sorunun amacı, yalnızca sıfırlar ve birlerden oluşan bir ikili diziyi analiz etmektir. Kodunuz, dizedeki en büyük ardışık sıfır ve birlerin sayısını bulmalıdır. Örneğin, dize verildiğinde:\n",
    "\n",
    "\"1001101000110\" Ardışık sıfırların en büyük sayısı 3'tür.\n",
    "\n",
    "\"1001101000110\" Ardışık birlerin en büyük sayısı 2'dir.\n",
    "\n",
    "Sıfırlar ve birler dizisi olan tek bir parametre alan ardışık_sıfırlar adlı bir fonksiyon tanımlayın."
   ]
  },
  {
   "cell_type": "code",
   "execution_count": 8,
   "metadata": {},
   "outputs": [
    {
     "data": {
      "text/plain": [
       "'max_zero_seq= 3, max_one_seq = 2'"
      ]
     },
     "execution_count": 8,
     "metadata": {},
     "output_type": "execute_result"
    }
   ],
   "source": [
    "def ardisiklar(a):\n",
    "    zero_counter = 0\n",
    "    max_zero_seq = 0\n",
    "    one_counter = 0\n",
    "    max_one_seq = 0\n",
    "\n",
    "    for i in a:\n",
    "        if i == '1':\n",
    "            one_counter += 1\n",
    "            zero_counter = 0\n",
    "            if one_counter > max_one_seq:\n",
    "                max_one_seq = one_counter\n",
    "        elif i == '0':\n",
    "            one_counter = 0\n",
    "            zero_counter += 1\n",
    "            if zero_counter > max_zero_seq:\n",
    "                max_zero_seq = zero_counter\n",
    "\n",
    "    return (f\"max_zero_seq= {max_zero_seq}, max_one_seq = {max_one_seq}\")\n",
    "\n",
    "ardisiklar('1001101000110')"
   ]
  },
  {
   "cell_type": "markdown",
   "id": "26614e94",
   "metadata": {},
   "source": [
    "5- \n",
    "Parametre olarak negatif olmayan bir sayı alan \"format_number\" adında bir fonksiyon yazın.\n",
    "\n",
    "Fonksiyonunuz sayıyı bir stringe dönüştürmeli ve binlik ayırıcı olarak virgül eklemelidir.\n",
    "\n",
    "Örneğin, format_number(1000000) Output: \"1,000,000\" çıktısını vermelidir."
   ]
  },
  {
   "cell_type": "code",
   "execution_count": 11,
   "id": "d4efed96",
   "metadata": {},
   "outputs": [
    {
     "data": {
      "text/plain": [
       "'1,000,000'"
      ]
     },
     "execution_count": 11,
     "metadata": {},
     "output_type": "execute_result"
    }
   ],
   "source": [
    "def format_number(number):\n",
    "    return f\"{number:,}\"\n",
    "\n",
    "format_number(1000000)"
   ]
  },
  {
   "cell_type": "markdown",
   "id": "52dc60b7",
   "metadata": {},
   "source": [
    "6-\n",
    "Kullanıcıdan alınan bir text dizisinin tüm noktalama işaretlerini temizleyen bir fonksiyon yazınız.\n",
    "Example:\n",
    "cleaning(\"nas,ıls..ın\") >>> \"nasılsın\""
   ]
  },
  {
   "cell_type": "code",
   "execution_count": 24,
   "metadata": {},
   "outputs": [
    {
     "data": {
      "text/plain": [
       "'nasılsın'"
      ]
     },
     "execution_count": 24,
     "metadata": {},
     "output_type": "execute_result"
    }
   ],
   "source": [
    "def cleaning(text):\n",
    "    cleaned_version = ''.join(e for e in text if e.isalnum() or e == \" \")\n",
    "    return cleaned_version\n",
    "cleaning(\"nas,ıls..ın\")"
   ]
  },
  {
   "cell_type": "markdown",
   "id": "d7d5f9a8",
   "metadata": {},
   "source": [
    "7-\n",
    "Kullanıcıdan bir sayı girmesini isteyin ve girilen sayıya göre papatya falı döndüren algoritma yazın. Son çıktının tüm karakterlerinin upper olmasına dikkat edin.\n",
    "\n",
    "example:\n",
    "input >> 5\n",
    "output >> ['Loves Me', 'Loves Me Not', 'Loves Me', 'Loves Me Not', 'LOVES ME']"
   ]
  },
  {
   "cell_type": "code",
   "execution_count": 38,
   "id": "3dd36d82",
   "metadata": {},
   "outputs": [
    {
     "name": "stdout",
     "output_type": "stream",
     "text": [
      "['Loves Me', 'Loves Me Not', 'Loves Me', 'Loves Me Not', 'LOVES ME']\n"
     ]
    }
   ],
   "source": [
    "def papatya_fali(sayi):\n",
    "    fal_sonuclari = []\n",
    "    for i in range(sayi):\n",
    "        if i % 2 == 0:\n",
    "            fal_sonuclari.append('Loves Me')\n",
    "        else:\n",
    "            fal_sonuclari.append('Loves Me Not')\n",
    "    fal_sonuclari[-1] = fal_sonuclari[-1].upper()\n",
    "    return fal_sonuclari\n",
    "\n",
    "try:\n",
    "    sayi = int(input(\"Bir sayı girin: \"))\n",
    "    if sayi <= 0:\n",
    "        print(\"Lütfen pozitif bir sayı girin.\")\n",
    "    else:\n",
    "        sonuc = papatya_fali(sayi)\n",
    "        print(sonuc)\n",
    "except ValueError:\n",
    "    print(\"Geçerli bir sayı girmediğinizden emin olun.\")\n"
   ]
  },
  {
   "cell_type": "markdown",
   "id": "f75b8f0f",
   "metadata": {},
   "source": [
    "8 - Write a function that sorts the odd numbers in ascending order that leaves the even numbers in their original positions in a given string of numbers.\n",
    "\n",
    "Example:\n",
    "\n",
    "[7, 1] => [1, 7]\n",
    "\n",
    "[5, 8, 6, 3, 4] => [3, 8, 6, 5, 4]\n",
    "\n",
    "[9, 8, 7, 6, 5, 4, 3, 2, 1, 0] => [1, 8, 3, 6, 5, 4, 7, 2, 9, 0]"
   ]
  },
  {
   "cell_type": "code",
   "execution_count": 7,
   "id": "9d37421c",
   "metadata": {},
   "outputs": [
    {
     "data": {
      "text/plain": [
       "[1, 8, 3, 6, 5, 4, 7, 2, 9, 0]"
      ]
     },
     "execution_count": 7,
     "metadata": {},
     "output_type": "execute_result"
    }
   ],
   "source": [
    "def sort_odds(array):\n",
    "    odd_numbers = sorted([x for x in array if x % 2 != 0])\n",
    "    odd_index = 0\n",
    "    result = []\n",
    "\n",
    "    for num in array:\n",
    "        if num % 2 != 0:\n",
    "            result.append(odd_numbers[odd_index])\n",
    "            odd_index += 1\n",
    "        else:\n",
    "            result.append(num)\n",
    "\n",
    "    return result\n",
    "sort_odds([9, 8, 7, 6, 5, 4, 3, 2, 1, 0])\n"
   ]
  },
  {
   "cell_type": "markdown",
   "id": "0de6ca91",
   "metadata": {},
   "source": [
    "9 - bir fonksiyon yazın. İçerisine girilen string ifadenin her seferinde sırayla bir harfini büyük yazdırsın. Sonuç olarak liste döndürsün. Punctuation lar işleme dahil edilmemelidir.\n",
    "\n",
    "Example:\n",
    "input >> ankara\n",
    "\n",
    "output >> ['Ankara', 'aNkara', 'anKara', 'ankAra', 'ankaRa', 'ankarA']"
   ]
  },
  {
   "cell_type": "code",
   "execution_count": 16,
   "metadata": {},
   "outputs": [
    {
     "data": {
      "text/plain": [
       "['Ankara', 'aNkara', 'anKara', 'ankAra', 'ankaRa', 'ankarA']"
      ]
     },
     "execution_count": 16,
     "metadata": {},
     "output_type": "execute_result"
    }
   ],
   "source": [
    "def capitalize_letters(str):\n",
    "    results = []\n",
    "    for i in range(len(str)):\n",
    "        if str[i].isalpha():\n",
    "            capitalized = str[:i] + str[i].upper() + str[i+1:]\n",
    "            results.append(capitalized)\n",
    "    return results\n",
    "\n",
    "capitalize_letters(\"ankara\")"
   ]
  },
  {
   "cell_type": "markdown",
   "id": "3ecf0ab9",
   "metadata": {},
   "source": [
    "10 - Write a function scramble(str1, str2) that returns true if some of the str 1 characters can be rearranged to match str 2, false otherwise\n",
    "#Note >> Only lower case letters will be used (a-z). No punctuation or digits will be included.\n",
    "\n",
    "#Examples\n",
    "#scramble('rkqodlw', 'world') ==> True\n",
    "#scramble('katas', 'steak') ==> False"
   ]
  },
  {
   "cell_type": "code",
   "execution_count": 18,
   "id": "0d3f0772",
   "metadata": {},
   "outputs": [
    {
     "name": "stdout",
     "output_type": "stream",
     "text": [
      "True\n",
      "False\n"
     ]
    }
   ],
   "source": [
    "def scramble(str1, str2):\n",
    "    char_count_str1 = {}\n",
    "    char_count_str2 = {}\n",
    "\n",
    "    for char in str1:\n",
    "        char_count_str1[char] = char_count_str1.get(char, 0) + 1\n",
    "\n",
    "    for char in str2:\n",
    "        char_count_str2[char] = char_count_str2.get(char, 0) + 1\n",
    "\n",
    "    for char in char_count_str2:\n",
    "        if char not in char_count_str1 or char_count_str1[char] < char_count_str2[char]:\n",
    "            return False\n",
    "    return True\n",
    "\n",
    "print(scramble('rkqodlw', 'world'))  \n",
    "print(scramble('katas', 'steak') ) "
   ]
  },
  {
   "cell_type": "markdown",
   "id": "c0900727",
   "metadata": {},
   "source": [
    "11 - 1 den 100 e kadar olan sayılardaki asal sayıları bulun. \n",
    "\n",
    "Output >>> [2, 3, 5, 7, 11, 13, 17, 19, 23, 29, 31, 37, 41, 43, 47, 53, 59, 61, 67, 71, 73, 79, 83, 89, 97]"
   ]
  },
  {
   "cell_type": "code",
   "execution_count": 19,
   "id": "5b6cc46c",
   "metadata": {},
   "outputs": [
    {
     "name": "stdout",
     "output_type": "stream",
     "text": [
      "[2, 3, 5, 7, 11, 13, 17, 19, 23, 29, 31, 37, 41, 43, 47, 53, 59, 61, 67, 71, 73, 79, 83, 89, 97]\n"
     ]
    }
   ],
   "source": [
    "def is_prime(n):\n",
    "    if n <= 1:\n",
    "        return False\n",
    "    if n <= 3:\n",
    "        return True\n",
    "    if n % 2 == 0 or n % 3 == 0:\n",
    "        return False\n",
    "    i = 5\n",
    "    while i * i <= n:\n",
    "        if n % i == 0 or n % (i + 2) == 0:\n",
    "            return False\n",
    "        i += 6\n",
    "    return True\n",
    "\n",
    "primes = [2, 3]\n",
    "for number in range(5, 101, 6):\n",
    "    if is_prime(number):\n",
    "        primes.append(number)\n",
    "    if number + 2 <= 100 and is_prime(number + 2):\n",
    "        primes.append(number + 2)\n",
    "\n",
    "print(primes)\n"
   ]
  },
  {
   "cell_type": "markdown",
   "id": "e8a6836f",
   "metadata": {},
   "source": [
    "12 - ```\n",
    "7- Once upon a time, on a way through the old wild mountainous west,…\n",
    "… a man was given directions to go from one point to another. The directions were \"NORTH\", \"SOUTH\", \"WEST\", \"EAST\". Clearly \"NORTH\" and \"SOUTH\" are opposite, \"WEST\" and \"EAST\" too.\n",
    "\n",
    "Going to one direction and coming back the opposite direction right away is a needless effort. Since this is the wild west, with dreadfull weather and not much water, it's important to save yourself some energy, otherwise you might die of thirst!\n",
    "\n",
    "How I crossed a mountainous desert the smart way.\n",
    "The directions given to the man are, for example, the following (depending on the language):\n",
    "\n",
    "[\"NORTH\", \"SOUTH\", \"SOUTH\", \"EAST\", \"WEST\", \"NORTH\", \"WEST\"].\n",
    "or\n",
    "{ \"NORTH\", \"SOUTH\", \"SOUTH\", \"EAST\", \"WEST\", \"NORTH\", \"WEST\" };\n",
    "or\n",
    "[North, South, South, East, West, North, West]\n",
    "You can immediatly see that going \"NORTH\" and immediately \"SOUTH\" is not reasonable, better stay to the same place! So the task is to give to the man a simplified version of the plan. A better plan in this case is simply:\n",
    "\n",
    "[\"WEST\"]\n",
    "or\n",
    "{ \"WEST\" }\n",
    "or\n",
    "[West]\n",
    "Other examples:\n",
    "In [\"NORTH\", \"SOUTH\", \"EAST\", \"WEST\"], the direction \"NORTH\" + \"SOUTH\" is going north and coming back right away.\n",
    "\n",
    "The path becomes [\"EAST\", \"WEST\"], now \"EAST\" and \"WEST\" annihilate each other, therefore, the final result is [] (nil in Clojure).\n",
    "\n",
    "In [\"NORTH\", \"EAST\", \"WEST\", \"SOUTH\", \"WEST\", \"WEST\"], \"NORTH\" and \"SOUTH\" are not directly opposite but they become directly opposite after the reduction of \"EAST\" and \"WEST\" so the whole path is reducible to [\"WEST\", \"WEST\"].\n",
    "\n",
    "Task\n",
    "Write a function dirReduc which will take an array of strings and returns an array of strings with the needless directions removed (W<->E or S<->N side by side).\n",
    "\n",
    "The Haskell version takes a list of directions with data Direction = North | East | West | South.\n",
    "The Clojure version returns nil when the path is reduced to nothing.\n",
    "The Rust version takes a slice of enum Direction {North, East, West, South}.\n",
    "See more examples in \"Sample Tests:\"\n",
    "Notes\n",
    "Not all paths can be made simpler. The path [\"NORTH\", \"WEST\", \"SOUTH\", \"EAST\"] is not reducible. \"NORTH\" and \"WEST\", \"WEST\" and \"SOUTH\", \"SOUTH\" and \"EAST\" are not directly opposite of each other and can't become such. Hence the result path is itself : [\"NORTH\", \"WEST\", \"SOUTH\", \"EAST\"].\n",
    "```\n",
    "\n",
    "\n"
   ]
  },
  {
   "cell_type": "code",
   "execution_count": 22,
   "id": "9545c229",
   "metadata": {},
   "outputs": [
    {
     "name": "stdout",
     "output_type": "stream",
     "text": [
      "['WEST']\n"
     ]
    }
   ],
   "source": [
    "def dirReduc(arr):\n",
    "    opposites = {\"NORTH\": \"SOUTH\", \"SOUTH\": \"NORTH\", \"EAST\": \"WEST\", \"WEST\": \"EAST\"}\n",
    "    result = []\n",
    "\n",
    "    for direction in arr:\n",
    "        if result and result[-1] == opposites[direction]:\n",
    "            result.pop()\n",
    "        else:\n",
    "            result.append(direction)\n",
    "    return result\n",
    "\n",
    "directions = [\"NORTH\", \"SOUTH\", \"SOUTH\", \"EAST\", \"WEST\", \"NORTH\", \"WEST\"]\n",
    "print(dirReduc(directions))\n"
   ]
  },
  {
   "cell_type": "markdown",
   "metadata": {},
   "source": [
    "*** son sorularda chatgbt - den yardim aldim, ama anladim, ogrendim..."
   ]
  },
  {
   "cell_type": "markdown",
   "metadata": {},
   "source": []
  }
 ],
 "metadata": {
  "kernelspec": {
   "display_name": "Python 3 (ipykernel)",
   "language": "python",
   "name": "python3"
  },
  "language_info": {
   "codemirror_mode": {
    "name": "ipython",
    "version": 3
   },
   "file_extension": ".py",
   "mimetype": "text/x-python",
   "name": "python",
   "nbconvert_exporter": "python",
   "pygments_lexer": "ipython3",
   "version": "3.11.4"
  }
 },
 "nbformat": 4,
 "nbformat_minor": 5
}
