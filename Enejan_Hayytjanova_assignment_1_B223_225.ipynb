{
 "cells": [
  {
   "cell_type": "markdown",
   "metadata": {},
   "source": [
    "1 - Kullanıcıdan input ile iki veri alın. Bu veriler tamsayı ise çarpımını yazdırın. "
   ]
  },
  {
   "cell_type": "code",
   "execution_count": 9,
   "metadata": {},
   "outputs": [
    {
     "name": "stdout",
     "output_type": "stream",
     "text": [
      "girdiginiz sayi tam sayi degil\n"
     ]
    }
   ],
   "source": [
    "a = input(\"ilk sayinizi girin\")\n",
    "b = input(\"ikinci sayinizi girin\")\n",
    "\n",
    "if a.isnumeric() and b.isnumeric(): \n",
    "    a = int(a)\n",
    "    b = int(b)\n",
    "    c = a * b\n",
    "    print(\"sayilarin carpimi:\", c)\n",
    "else:\n",
    "    print(\"girdiginiz sayi tam sayi degil\")\n",
    "\n"
   ]
  },
  {
   "cell_type": "markdown",
   "metadata": {},
   "source": [
    "2 - Kullanıcıdan bir sayı isteyin. Sayı tek ise 2 katını çift ise karesini yazdırın. "
   ]
  },
  {
   "cell_type": "code",
   "execution_count": 1,
   "metadata": {},
   "outputs": [
    {
     "name": "stdout",
     "output_type": "stream",
     "text": [
      "Girdiginiz tek sayinin iki kati:  6\n"
     ]
    }
   ],
   "source": [
    "x = int(input(\"ilk sayinizi girin\"))\n",
    "\n",
    "if x % 2 != 0:\n",
    "    print(\"Girdiginiz tek sayinin iki kati: \", (2*x))\n",
    "else:\n",
    "    print(\"Girdiginiz cif sayinin karesi: \", (x**2))"
   ]
  },
  {
   "cell_type": "markdown",
   "metadata": {},
   "source": [
    "3 - Kullanıcıdan iki tam sayı isteyin. Sayılar eşitse veya sayıların farkı 5 in katı ise True döndüren algoritmayı yazın. "
   ]
  },
  {
   "cell_type": "code",
   "execution_count": 18,
   "metadata": {},
   "outputs": [
    {
     "name": "stdout",
     "output_type": "stream",
     "text": [
      "True\n"
     ]
    }
   ],
   "source": [
    "ilk_tam_sayi = int(input(\"ilk tam sayinizi girin\"))\n",
    "ikinci_tam_sayi = int(input(\"ikinci tam sayinizi girin\"))\n",
    "\n",
    "if ilk_tam_sayi == ikinci_tam_sayi or (ilk_tam_sayi - ikinci_tam_sayi) % 5 == 0:\n",
    "    print(\"True\")"
   ]
  },
  {
   "cell_type": "markdown",
   "metadata": {},
   "source": [
    "4 - Kullanıcıya sınavdan aldığı notu sorunuz. Denk gelen Harf notunu yazdırın. 0-100 aralığı        dışında girilen notların geçersiz olduğuu belirtmeyi unutmayın. \n",
    "    80 - 100 aralığı \"A\",\n",
    "    65 - 79 aralığı \"B\",\n",
    "    55 - 64 aralığı \"C\",\n",
    "    35 - 54 aralığı \"D\",\n",
    "    0 - 34 aralığı \"F\""
   ]
  },
  {
   "cell_type": "code",
   "execution_count": 23,
   "metadata": {},
   "outputs": [
    {
     "name": "stdout",
     "output_type": "stream",
     "text": [
      "Gecersiz bir not girdiniz!\n"
     ]
    }
   ],
   "source": [
    "sinav_notu = float(input(\"sinav notunuzu giriniz\"))\n",
    "\n",
    "if 80 <= sinav_notu <= 100:\n",
    "    print(\"A\")\n",
    "elif 65 <= sinav_notu <= 79:\n",
    "    print(\"B\")\n",
    "elif 55 <= sinav_notu <= 64:\n",
    "    print(\"C\")\n",
    "elif 35 <= sinav_notu <= 54:\n",
    "    print(\"D\")\n",
    "elif 0 <= sinav_notu <= 34:\n",
    "    print(\"F\")\n",
    "else:\n",
    "    print(\"Gecersiz bir not girdiniz!\")"
   ]
  },
  {
   "cell_type": "markdown",
   "metadata": {},
   "source": [
    "5 - Vücut kitle endeksini hesaplayan kodu yazınız. Hesapladığınız değerin hangi kategoride olduğunu belirtin. Örn: vki = 24, normal. Kategori aralıklarını araştırma sonucu kendiniz elde edin. "
   ]
  },
  {
   "cell_type": "code",
   "execution_count": 31,
   "metadata": {},
   "outputs": [
    {
     "name": "stdout",
     "output_type": "stream",
     "text": [
      "22.582709172343712  - Normal\n"
     ]
    }
   ],
   "source": [
    "kilo = float(input(\"kilonuzu kg(kilogram) cinsinden giriniz\"))\n",
    "boy = float(input(\"boyunuzu m(metre) cinsinden giriniz\"))\n",
    "VKİ = kilo / (boy * boy)\n",
    "\n",
    "if VKİ < 18.5:\n",
    "    print(VKİ, \" - Zayif\")\n",
    "\n",
    "elif  18.5 <= VKİ <= 24.9:\n",
    "    print(VKİ, \" - Normal\")\n",
    "\n",
    "elif  25.0 <= VKİ <= 29.9:\n",
    "    print(VKİ, \" - Fazla Kilolu\")\n",
    "\n",
    "elif  30.0 <= VKİ <= 34.9:\n",
    "    print(VKİ, \" - Şişman (Obezite Sınıfı I)\")\n",
    "\n",
    "elif  35.0 <= VKİ <= 39.9:\n",
    "    print(VKİ, \" - Şişman (Obezite Sınıfı II)\")\n",
    "\n",
    "elif  40 <= VKİ:\n",
    "    print(VKİ, \" - Aşırı Şişman (Obezite Sınıfı III)\")"
   ]
  }
 ],
 "metadata": {
  "kernelspec": {
   "display_name": "base",
   "language": "python",
   "name": "python3"
  },
  "language_info": {
   "codemirror_mode": {
    "name": "ipython",
    "version": 3
   },
   "file_extension": ".py",
   "mimetype": "text/x-python",
   "name": "python",
   "nbconvert_exporter": "python",
   "pygments_lexer": "ipython3",
   "version": "3.11.4"
  },
  "orig_nbformat": 4
 },
 "nbformat": 4,
 "nbformat_minor": 2
}
